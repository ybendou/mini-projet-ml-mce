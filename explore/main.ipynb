{
 "cells": [
  {
   "cell_type": "code",
   "execution_count": 98,
   "metadata": {},
   "outputs": [
    {
     "name": "stdout",
     "output_type": "stream",
     "text": [
      "The autoreload extension is already loaded. To reload it, use:\n",
      "  %reload_ext autoreload\n"
     ]
    }
   ],
   "source": [
    "import pandas as pd \n",
    "import numpy as np\n",
    "from utils import *\n",
    "%load_ext autoreload\n",
    "%autoreload 2"
   ]
  },
  {
   "cell_type": "code",
   "execution_count": 99,
   "metadata": {},
   "outputs": [],
   "source": [
    "from sklearn.svm import SVC\n",
    "from sklearn.linear_model import LogisticRegression\n",
    "from sklearn.linear_model import SGDClassifier\n",
    "from sklearn.tree import DecisionTreeClassifier\n",
    "from sklearn.ensemble import RandomForestClassifier\n",
    "from sklearn.ensemble import AdaBoostClassifier"
   ]
  },
  {
   "cell_type": "code",
   "execution_count": 81,
   "metadata": {},
   "outputs": [],
   "source": []
  },
  {
   "cell_type": "code",
   "execution_count": 110,
   "metadata": {},
   "outputs": [],
   "source": [
    "data_str = 'banknote'\n",
    "\n",
    "data_paths = {'kidney':'../data/kidney_disease/kidney_disease.csv',\n",
    "             'banknote':'../data/banknote/data_banknote_authentication.txt'}\n",
    "data = pd.read_csv(data_paths[data_str])"
   ]
  },
  {
   "cell_type": "code",
   "execution_count": 111,
   "metadata": {},
   "outputs": [
    {
     "data": {
      "text/plain": [
       "False"
      ]
     },
     "execution_count": 111,
     "metadata": {},
     "output_type": "execute_result"
    }
   ],
   "source": [
    "c = 'class'\n",
    "data[c].dtype != 'int64'"
   ]
  },
  {
   "cell_type": "code",
   "execution_count": 112,
   "metadata": {},
   "outputs": [
    {
     "data": {
      "text/plain": [
       "dtype('int64')"
      ]
     },
     "execution_count": 112,
     "metadata": {},
     "output_type": "execute_result"
    }
   ],
   "source": [
    "data[c].dtype"
   ]
  },
  {
   "cell_type": "code",
   "execution_count": 113,
   "metadata": {},
   "outputs": [
    {
     "name": "stdout",
     "output_type": "stream",
     "text": [
      "number of features selected : 3\n"
     ]
    }
   ],
   "source": [
    "data = clean_noisy_data(data,classes = 2)\n",
    "num_variables, categ_variables = detect_type(data.iloc[:,:-1])\n",
    "data.iloc[:,:-1] = replace_missing(data.iloc[:,:-1], num_variables, categ_variables)\n",
    "data.iloc[:,:-1] = center_encode(data, num_variables, categ_variables)\n",
    "dataset = feature_selection(data,cut_off_variance=0.95,keep_features=True)\n"
   ]
  },
  {
   "cell_type": "code",
   "execution_count": 77,
   "metadata": {},
   "outputs": [],
   "source": [
    "X,y = dataset.values[:,:-1],dataset.values[:,-1]\n",
    "X_train, X_test, y_train, y_test = split_data(X,y)"
   ]
  },
  {
   "cell_type": "code",
   "execution_count": 79,
   "metadata": {},
   "outputs": [],
   "source": [
    "parameters = {'kernel':['linear', 'rbf', 'sigmoid', 'poly'], 'C':[1, 10], 'degree' : [2, 3],\n",
    "             'gamma' : ['scale', 'auto']}\n",
    "models_dict = {'SVC':{'model':SVC,\n",
    "                      'parameters':{'kernel':['linear', 'rbf', 'sigmoid', 'poly'], \n",
    "                                                'C'     :[1, 10], \n",
    "                                                'degree': [2, 3],\n",
    "                                                'gamma' : ['scale', 'auto']\n",
    "                                   }\n",
    "                     },\n",
    "               'LogisticRegression':{'model':LogisticRegression,\n",
    "                                    'parameters':{'penalty':['l1', 'l2', 'elasticnet'], \n",
    "                                                'C':[1, 10], \n",
    "                                                'fit_intercept' : [True,False],\n",
    "                                                'intercept_scaling' : [1,10],\n",
    "                                                'solver' : ['newton-cg', 'lbfgs','liblinear', 'sag', 'saga']\n",
    "                                                 }\n",
    "                                    },\n",
    "                'SGDClassifier':{'model':SGDClassifier,\n",
    "                                    'parameters':{'loss':['hinge', 'log', 'modified_huber', 'squared_hinge', 'perceptron'], \n",
    "                                                'penalty':['l1', 'l2'], \n",
    "                                                'l1_ratiofloat' : [0.15,0.5,0.9],\n",
    "                                                'fit_interceptbool' : [True,False],\n",
    "                                                'learning_rate' : ['adaptive', 'constant','optimal', 'invscaling']\n",
    "                                                 }\n",
    "                                    },\n",
    "                'RandomForestClassifier':{'model':RandomForestClassifier,\n",
    "                                    'parameters':{'splitter':['best','random'], \n",
    "                                                'criterion':['gini', 'entropy'], \n",
    "                                                'max_depth' : [2,5,10,None],\n",
    "                                                'min_samples_split' : [1,2,3],\n",
    "                                                 }\n",
    "                                    },\n",
    "                 'AdaBoostClassifier':{'model':AdaBoostClassifier,\n",
    "                                    'parameters':{'n_estimators':[50, 100, 150], \n",
    "                                                'algorithm':['SAMME', 'SAMME.R'], \n",
    "                                                'learning_rate' : [0.1,0.5,1]\n",
    "                                                 }\n",
    "                                    },\n",
    "                 'RandomForestClassifier':{'model':RandomForestClassifier,\n",
    "                                    'parameters':{'n_estimators':[50, 100, 150], \n",
    "                                                'criterion':['gini', 'entropy'], \n",
    "                                                'max_depth' : [2,5,10,None],\n",
    "                                                'min_samples_split' : [1,2,3],\n",
    "                                                'bootstrap' : [True,False],\n",
    "                                                 }\n",
    "                                    }\n",
    "                }\n",
    "              \n",
    "              "
   ]
  },
  {
   "cell_type": "code",
   "execution_count": 91,
   "metadata": {},
   "outputs": [
    {
     "name": "stdout",
     "output_type": "stream",
     "text": [
      "{'model': <class 'sklearn.ensemble._forest.RandomForestClassifier'>, 'parameters': {'n_estimators': [50, 100, 150], 'criterion': ['gini', 'entropy'], 'max_depth': [2, 5, 10, None], 'min_samples_split': [1, 2, 3], 'bootstrap': [True, False]}}\n"
     ]
    }
   ],
   "source": [
    "model_str = 'RandomForestClassifier'\n",
    "model_choice = models_dict[model_str]\n",
    "print(model_choice)"
   ]
  },
  {
   "cell_type": "code",
   "execution_count": 92,
   "metadata": {},
   "outputs": [],
   "source": [
    "model = model_choice['model']\n",
    "if params == None : \n",
    "    parameters = model_choice['parameters']\n",
    "    params,best_score = select_params(model, parameters, X_train, y_train)    "
   ]
  },
  {
   "cell_type": "code",
   "execution_count": 93,
   "metadata": {},
   "outputs": [
    {
     "data": {
      "text/plain": [
       "dict_keys(['SVC', 'LogisticRegression', 'SGDClassifier', 'RandomForestClassifier', 'AdaBoostClassifier'])"
      ]
     },
     "execution_count": 93,
     "metadata": {},
     "output_type": "execute_result"
    }
   ],
   "source": [
    "models_dict.keys()"
   ]
  },
  {
   "cell_type": "code",
   "execution_count": 90,
   "metadata": {},
   "outputs": [
    {
     "data": {
      "text/plain": [
       "{'kernel': 'rbf', 'C': 10, 'degree': 2, 'gamma': 'auto'}"
      ]
     },
     "execution_count": 90,
     "metadata": {},
     "output_type": "execute_result"
    }
   ],
   "source": [
    "params"
   ]
  },
  {
   "cell_type": "code",
   "execution_count": 97,
   "metadata": {},
   "outputs": [
    {
     "data": {
      "text/plain": [
       "{'kernel': 'rbf', 'C': 10, 'degree': 2, 'gamma': 'auto'}"
      ]
     },
     "execution_count": 97,
     "metadata": {},
     "output_type": "execute_result"
    }
   ],
   "source": [
    "import json \n",
    "json.loads('{\"kernel\": \"rbf\", \"C\": 10, \"degree\": 2, \"gamma\": \"auto\"}') "
   ]
  },
  {
   "cell_type": "code",
   "execution_count": null,
   "metadata": {},
   "outputs": [],
   "source": []
  }
 ],
 "metadata": {
  "kernelspec": {
   "display_name": "venv2",
   "language": "python",
   "name": "venv2"
  },
  "language_info": {
   "codemirror_mode": {
    "name": "ipython",
    "version": 3
   },
   "file_extension": ".py",
   "mimetype": "text/x-python",
   "name": "python",
   "nbconvert_exporter": "python",
   "pygments_lexer": "ipython3",
   "version": "3.8.5"
  }
 },
 "nbformat": 4,
 "nbformat_minor": 4
}
